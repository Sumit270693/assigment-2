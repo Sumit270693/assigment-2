{
 "cells": [
  {
   "cell_type": "code",
   "execution_count": 1,
   "id": "08760484-7137-4966-9144-150efe7f8b6b",
   "metadata": {},
   "outputs": [],
   "source": [
    "\"\"\"  Q1. Which keyword is used to create a function? Create a function to return a list of odd numbers in the\n",
    " range of 1 to 25.\"\"\""
   ]
  },
  {
   "cell_type": "code",
   "execution_count": 2,
   "id": "e10e66d8-15c5-4c78-b947-fe07b50a3159",
   "metadata": {},
   "outputs": [
    {
     "name": "stdout",
     "output_type": "stream",
     "text": [
      "[1, 3, 5, 7, 9, 11, 13, 15, 17, 19, 21, 23, 25]\n"
     ]
    }
   ],
   "source": [
    "def get_odd_numbers():\n",
    "    odd_numbers = []\n",
    "    for i in range(1, 26):\n",
    "        if i % 2 == 1:\n",
    "            odd_numbers.append(i)\n",
    "    return odd_numbers\n",
    "\n",
    "print(get_odd_numbers())"
   ]
  },
  {
   "cell_type": "code",
   "execution_count": 3,
   "id": "62a32643-804e-4714-99b4-0127322d3182",
   "metadata": {},
   "outputs": [],
   "source": [
    "\"\"\" for even number \"\"\""
   ]
  },
  {
   "cell_type": "code",
   "execution_count": 9,
   "id": "48f2d456-a7b4-4d92-9d89-ff820f81dd88",
   "metadata": {},
   "outputs": [
    {
     "name": "stdout",
     "output_type": "stream",
     "text": [
      "[2, 4, 6, 8, 10, 12, 14, 16, 18]\n"
     ]
    }
   ],
   "source": [
    "def get_even_numbers():\n",
    "    even_numbers = []\n",
    "    for i in range(1, 20):\n",
    "        if i % 2 == 0:\n",
    "            even_numbers.append(i)\n",
    "    return even_numbers\n",
    "\n",
    "print(get_even_numbers())\n"
   ]
  },
  {
   "cell_type": "code",
   "execution_count": null,
   "id": "a89e7496-f506-4750-b62e-53e6f27aa4db",
   "metadata": {},
   "outputs": [],
   "source": [
    "\"\"\" Q2. Why *args and **kwargs is used in some functions? Create a function each for *args and **kwargs\n",
    "   to demonstrate their use. \"\"\""
   ]
  },
  {
   "cell_type": "code",
   "execution_count": 10,
   "id": "6cfd3d77-14b4-4c7c-9d45-9936df9571ee",
   "metadata": {},
   "outputs": [
    {
     "name": "stdout",
     "output_type": "stream",
     "text": [
      "1\n",
      "2\n",
      "3\n",
      "hello\n",
      "True\n"
     ]
    }
   ],
   "source": [
    "def print_args(*args):\n",
    "    for arg in args:\n",
    "        print(arg)\n",
    "\n",
    "print_args(1, 2, 3, \"hello\", True)\n"
   ]
  },
  {
   "cell_type": "code",
   "execution_count": 11,
   "id": "5d0a118d-8646-4d05-990d-ce99fb0f7bf8",
   "metadata": {},
   "outputs": [
    {
     "name": "stdout",
     "output_type": "stream",
     "text": [
      "name: Sumit\n",
      "age: 30\n",
      "city: bihar\n"
     ]
    }
   ],
   "source": [
    "def print_kwargs(**kwargs):\n",
    "    for key, value in kwargs.items():\n",
    "        print(key + \": \" + str(value))\n",
    "\n",
    "print_kwargs(name=\"Sumit\", age=30, city=\"bihar\")\n"
   ]
  },
  {
   "cell_type": "code",
   "execution_count": 12,
   "id": "d6ecdfd4-147f-42ad-8d1f-49c2129a7bec",
   "metadata": {},
   "outputs": [],
   "source": [
    "\"\"\" Q3. What is an iterator in python? Name the method used to initialise the iterator object and the method\n",
    " used for iteration. Use these methods to print the first five elements of the given list [2, 4, 6, 8, 10, 12, 14,\n",
    "  16, 18, 20].\"\"\""
   ]
  },
  {
   "cell_type": "code",
   "execution_count": 13,
   "id": "0460b934-4471-4083-8af0-6ea2bf4b51f5",
   "metadata": {},
   "outputs": [
    {
     "name": "stdout",
     "output_type": "stream",
     "text": [
      "2\n",
      "4\n",
      "6\n",
      "8\n",
      "10\n"
     ]
    }
   ],
   "source": [
    "my_list = [2, 4, 6, 8, 10, 12, 14, 16, 18, 20]\n",
    "\n",
    "# Initialize the iterator object\n",
    "my_iter = iter(my_list)\n",
    "\n",
    "# Iterate over the first five elements of the list\n",
    "for i in range(5):\n",
    "    print(next(my_iter))"
   ]
  },
  {
   "cell_type": "code",
   "execution_count": 14,
   "id": "e083929b-7124-4fca-b979-911f0db45e68",
   "metadata": {},
   "outputs": [],
   "source": [
    "''' Q4. What is a generator function in python? Why yield keyword is used? Give an example of a generator function. '''"
   ]
  },
  {
   "cell_type": "code",
   "execution_count": 15,
   "id": "8a609468-4509-4e89-8c85-c89903d07805",
   "metadata": {},
   "outputs": [],
   "source": [
    "def fibonacci():\n",
    "    a, b = 0, 1\n",
    "    while True:\n",
    "        yield a\n",
    "        a, b = b, a + b\n"
   ]
  },
  {
   "cell_type": "code",
   "execution_count": 16,
   "id": "5c2d6eac-55f8-424e-818a-91a406d49205",
   "metadata": {},
   "outputs": [
    {
     "name": "stdout",
     "output_type": "stream",
     "text": [
      "0\n",
      "1\n",
      "1\n",
      "2\n",
      "3\n",
      "5\n",
      "8\n",
      "13\n",
      "21\n",
      "34\n"
     ]
    }
   ],
   "source": [
    "fib = fibonacci()\n",
    "for i in range(10):\n",
    "    print(next(fib))\n"
   ]
  },
  {
   "cell_type": "code",
   "execution_count": 17,
   "id": "d27691f7-dc46-404e-85bf-d7c6ade4cac6",
   "metadata": {},
   "outputs": [],
   "source": [
    "\"\"\" Q5. Create a generator function for prime numbers less than 1000. Use the next() method to print the\n",
    " first 20 prime numbers.\"\"\"\n"
   ]
  },
  {
   "cell_type": "code",
   "execution_count": 18,
   "id": "9274707c-cd47-4814-a0ac-9ff154c68c6c",
   "metadata": {},
   "outputs": [],
   "source": [
    "def prime_numbers():\n",
    "    \"\"\"\n",
    "    This generator function yields prime numbers less than 1000.\n",
    "    \"\"\"\n",
    "    # Yield first prime number\n",
    "    yield 2\n",
    "    \n",
    "    # Iterate over odd numbers less than 1000\n",
    "    for num in range(3, 1000, 2):\n",
    "        # Check if number is prime\n",
    "        for i in range(2, int(num**0.5)+1):\n",
    "            if num % i == 0:\n",
    "                break\n",
    "        else:\n",
    "            yield num\n"
   ]
  },
  {
   "cell_type": "code",
   "execution_count": 19,
   "id": "c1fb1303-5292-4584-89b7-07d1b055430d",
   "metadata": {},
   "outputs": [
    {
     "name": "stdout",
     "output_type": "stream",
     "text": [
      "2\n",
      "3\n",
      "5\n",
      "7\n",
      "11\n",
      "13\n",
      "17\n",
      "19\n",
      "23\n",
      "29\n",
      "31\n",
      "37\n",
      "41\n",
      "43\n",
      "47\n",
      "53\n",
      "59\n",
      "61\n",
      "67\n",
      "71\n"
     ]
    }
   ],
   "source": [
    "# Create generator object for prime numbers\n",
    "primes = prime_numbers()\n",
    "\n",
    "# Print first 20 prime numbers using next() method\n",
    "for i in range(20):\n",
    "    print(next(primes))\n"
   ]
  },
  {
   "cell_type": "code",
   "execution_count": null,
   "id": "edba4f55-638e-4d4d-812a-bb9e4ead9108",
   "metadata": {},
   "outputs": [],
   "source": [
    "\"\"\" Q6. Write a python program to print the first 10 Fibonacci numbers using a while loop.\"\"\""
   ]
  },
  {
   "cell_type": "code",
   "execution_count": 20,
   "id": "ec3e62ab-ccac-4f80-8973-7f750bdb398a",
   "metadata": {},
   "outputs": [
    {
     "name": "stdout",
     "output_type": "stream",
     "text": [
      "0\n",
      "1\n",
      "1\n",
      "2\n",
      "3\n",
      "5\n",
      "8\n",
      "13\n",
      "21\n",
      "34\n"
     ]
    }
   ],
   "source": [
    "# initialize the first two numbers of the Fibonacci sequence\n",
    "a, b = 0, 1\n",
    "\n",
    "# print the first 10 Fibonacci numbers\n",
    "i = 0\n",
    "while i < 10:\n",
    "    print(a)\n",
    "    a, b = b, a + b\n",
    "    i += 1\n"
   ]
  },
  {
   "cell_type": "code",
   "execution_count": 23,
   "id": "cc6760c1-c747-416c-a47e-515aced40d3e",
   "metadata": {},
   "outputs": [],
   "source": [
    "###  Q7. Write a List Comprehension to iterate through the given string: ‘pwskills’.\n",
    "###  Expected output: ['p', 'w', 's', 'k', 'i', 'l', 'l', 's']"
   ]
  },
  {
   "cell_type": "code",
   "execution_count": 24,
   "id": "63ad375e-1101-4e8c-82e8-bb0bf08b6925",
   "metadata": {},
   "outputs": [
    {
     "name": "stdout",
     "output_type": "stream",
     "text": [
      "['p', 'w', 's', 'k', 'i', 'l', 'l', 's']\n"
     ]
    }
   ],
   "source": [
    "string = 'pwskills'\n",
    "output_list = [char for char in string if char in ['p', 'w', 's', 'k', 'i', 'l']]\n",
    "print(output_list)\n"
   ]
  },
  {
   "cell_type": "code",
   "execution_count": 25,
   "id": "0ac4802c-adaf-4bba-bd0b-64df68a07af4",
   "metadata": {},
   "outputs": [
    {
     "data": {
      "text/plain": [
       "'Q8. Write a python program to check whether a given number is Palindrome or not using a while loop.'"
      ]
     },
     "execution_count": 25,
     "metadata": {},
     "output_type": "execute_result"
    }
   ],
   "source": [
    "\"\"\"Q8. Write a python program to check whether a given number is Palindrome or not using a while loop.\"\"\""
   ]
  },
  {
   "cell_type": "code",
   "execution_count": 26,
   "id": "5f27cd48-10e1-47d4-9758-1e8780a26a8d",
   "metadata": {},
   "outputs": [
    {
     "name": "stdin",
     "output_type": "stream",
     "text": [
      "Enter a number:  5\n"
     ]
    },
    {
     "name": "stdout",
     "output_type": "stream",
     "text": [
      "5 is a palindrome number\n"
     ]
    }
   ],
   "source": [
    "num = int(input(\"Enter a number: \"))\n",
    "temp = num\n",
    "reverse = 0\n",
    "\n",
    "while temp > 0:\n",
    "    digit = temp % 10\n",
    "    reverse = reverse * 10 + digit\n",
    "    temp //= 10\n",
    "\n",
    "if num == reverse:\n",
    "    print(num, \"is a palindrome number\")\n",
    "else:\n",
    "    print(num, \"is not a palindrome number\")\n"
   ]
  },
  {
   "cell_type": "code",
   "execution_count": 27,
   "id": "cc51d50f-9b25-478d-9f2e-55e21bd0e7da",
   "metadata": {},
   "outputs": [],
   "source": [
    "### Q9. Write a code to print odd numbers from 1 to 100 using list comprehension."
   ]
  },
  {
   "cell_type": "code",
   "execution_count": 28,
   "id": "da5a5c87-24e1-4364-9b44-74a19f9a9f8b",
   "metadata": {},
   "outputs": [
    {
     "name": "stdout",
     "output_type": "stream",
     "text": [
      "[1, 3, 5, 7, 9, 11, 13, 15, 17, 19, 21, 23, 25, 27, 29, 31, 33, 35, 37, 39, 41, 43, 45, 47, 49, 51, 53, 55, 57, 59, 61, 63, 65, 67, 69, 71, 73, 75, 77, 79, 81, 83, 85, 87, 89, 91, 93, 95, 97, 99]\n"
     ]
    }
   ],
   "source": [
    "# Creating a list from 1 to 100 using list comprehension\n",
    "num_list = [num for num in range(1, 101)]\n",
    "\n",
    "# Using another list comprehension to filter out odd numbers\n",
    "odd_num_list = [num for num in num_list if num % 2 != 0]\n",
    "\n",
    "# Printing the odd number list\n",
    "print(odd_num_list)\n"
   ]
  },
  {
   "cell_type": "code",
   "execution_count": null,
   "id": "f9523085-1fb8-4fac-b4b9-f5db55be8d45",
   "metadata": {},
   "outputs": [],
   "source": []
  }
 ],
 "metadata": {
  "kernelspec": {
   "display_name": "Python 3 (ipykernel)",
   "language": "python",
   "name": "python3"
  },
  "language_info": {
   "codemirror_mode": {
    "name": "ipython",
    "version": 3
   },
   "file_extension": ".py",
   "mimetype": "text/x-python",
   "name": "python",
   "nbconvert_exporter": "python",
   "pygments_lexer": "ipython3",
   "version": "3.10.8"
  }
 },
 "nbformat": 4,
 "nbformat_minor": 5
}
